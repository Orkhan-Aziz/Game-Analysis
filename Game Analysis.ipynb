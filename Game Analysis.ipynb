{
 "cells": [
  {
   "cell_type": "code",
   "execution_count": 1,
   "metadata": {},
   "outputs": [
    {
     "name": "stdout",
     "output_type": "stream",
     "text": [
      "<class 'pandas.core.frame.DataFrame'>\n",
      "RangeIndex: 408324 entries, 0 to 408323\n",
      "Data columns (total 7 columns):\n",
      " #   Column             Non-Null Count   Dtype         \n",
      "---  ------             --------------   -----         \n",
      " 0   Number of Records  408324 non-null  int64         \n",
      " 1   eventName          408324 non-null  object        \n",
      " 2   eventTimestamp     408324 non-null  datetime64[ns]\n",
      " 3   gaUserStartDate    408324 non-null  object        \n",
      " 4   matchResult        175015 non-null  object        \n",
      " 5   platform           408324 non-null  object        \n",
      " 6   userID             408324 non-null  object        \n",
      "dtypes: datetime64[ns](1), int64(1), object(5)\n",
      "memory usage: 21.8+ MB\n"
     ]
    }
   ],
   "source": [
    "import pandas as pd\n",
    "import numpy as np\n",
    "import datetime as dt\n",
    "df1=pd.read_csv('df1.csv',parse_dates=['eventTimestamp'])\n",
    "df1['eventTimestamp']=df1['eventTimestamp'].str.slice(0,10)\n",
    "df1['eventTimestamp']=pd.to_datetime(df1['eventTimestamp'],format='mixed')\n",
    "df1.info()"
   ]
  },
  {
   "cell_type": "markdown",
   "metadata": {},
   "source": [
    "#  1.1 Programming Focused"
   ]
  },
  {
   "cell_type": "code",
   "execution_count": null,
   "metadata": {},
   "outputs": [],
   "source": [
    "# 1) The total of unique users connected on that day. Name this column “New_unique_players”\n",
    "\n",
    "grouping=df1.groupby(['eventTimestamp','platform'])\n",
    "dau=grouping['userID'].nunique()\n",
    "rindex=dau.reset_index()\n",
    "rindex.rename(columns={'userID':'New_unique_players'},inplace=True)\n",
    "rindex.head(10)"
   ]
  },
  {
   "cell_type": "code",
   "execution_count": null,
   "metadata": {},
   "outputs": [],
   "source": [
    "# 2) The total of new unique users who entered the app on that day. Name this column “New  Players”\n",
    "\n",
    "ndf=df1[df1['eventName']=='gameStarted']\n",
    "grouping=ndf.groupby(['eventTimestamp','platform'])['userID'].nunique().reset_index()\n",
    "grouping.rename(columns={'userID':'New  Players'},inplace=True)\n",
    "grouping.head(10)"
   ]
  },
  {
   "cell_type": "code",
   "execution_count": null,
   "metadata": {},
   "outputs": [],
   "source": [
    "# 3) The raw total of sessions (a session is when the game is started). Name this column  “Sessions”\n",
    "\n",
    "filter=df1[df1['eventName']=='gameStarted'].groupby(['eventTimestamp','platform']).size().reset_index().rename(columns={0:'Sessions'})\n",
    "filter.head(10)"
   ]
  },
  {
   "cell_type": "code",
   "execution_count": null,
   "metadata": {},
   "outputs": [],
   "source": [
    "# 4) The raw total of matches started. Name this column “Matches”\n",
    "\n",
    "filter=df1[df1['eventName']=='matchStarted']\n",
    "grouping=filter.groupby(['eventTimestamp','platform'])\n",
    "size=grouping.size()\n",
    "indx=size.reset_index().rename(columns={0:'Matches'})\n",
    "indx.head(10)"
   ]
  },
  {
   "cell_type": "code",
   "execution_count": null,
   "metadata": {},
   "outputs": [],
   "source": [
    "# 5) The raw total of matches lost. Name this column “Losses”\n",
    "# df1[(df1['eventName']=='matchEnded') & (df1['matchResult']=='Loss')].rename(columns={'matchResult':'Loss'})\n",
    "\n",
    "result=df1[df1['matchResult']=='Loss'].groupby(['eventTimestamp','platform']).size().reset_index().rename(columns={0:'Loss'})\n",
    "result.head(10)\n",
    "\n",
    "# df1['matchResult'].value_counts()\n",
    "\n"
   ]
  },
  {
   "cell_type": "code",
   "execution_count": null,
   "metadata": {},
   "outputs": [],
   "source": [
    "# 6) The raw total of matches won. Name this column “Wins”\n",
    "# df1[(df1['eventName']=='matchEnded') & (df1['matchResult']=='Win')].rename(columns={'matchResult':'Wins'})\n",
    "\n",
    "filter=df1[df1['matchResult']=='Win']\n",
    "group=filter.groupby(['eventTimestamp','platform'])\n",
    "size=group.size()\n",
    "index=size.reset_index().rename(columns={0:'Wins'})\n",
    "index.head(10)\n",
    "\n",
    "# df1['matchResult'].value_counts()\n",
    "# indx.sum(numeric_only=True)"
   ]
  },
  {
   "cell_type": "code",
   "execution_count": null,
   "metadata": {},
   "outputs": [],
   "source": [
    "# 7) The total of unique users who entered the game precisely 7 days ago from that day and \n",
    "# who were connected to the game. Name this column “D+7 Users”\n",
    "import datetime as dt\n",
    "import pandas as pd\n",
    "df1=pd.read_csv('df1.csv',parse_dates=['eventTimestamp'])\n",
    "\n",
    "df1['eventTimestamp']=df1['eventTimestamp'].str.slice(0,10)\n",
    "df1['eventTimestamp']=pd.to_datetime(df1['eventTimestamp'],format='mixed')\n",
    "\n",
    "df1['eventTimestamp']=df1['eventTimestamp'] - dt.timedelta(days=7)\n",
    "\n",
    "groupings=df1.groupby(['eventTimestamp','platform'])\n",
    "Users_D7=groupings['userID'].nunique()\n",
    "rindeks=Users_D7.reset_index()\n",
    "rindeks.rename(columns={'userID':'D+7 Users'},inplace=True)\n",
    "rindeks.head(10)"
   ]
  },
  {
   "cell_type": "markdown",
   "metadata": {},
   "source": [
    "# 1.2 Analysis Focused"
   ]
  },
  {
   "cell_type": "code",
   "execution_count": null,
   "metadata": {},
   "outputs": [],
   "source": [
    "# 1) PayingUsers: If the player spent real money in the game or not. Count of all yes and no users\n",
    "import pandas as pd\n",
    "import numpy as np\n",
    "df4=pd.read_csv('df4.csv') \n",
    "\n",
    "df4.columns\n",
    "\n",
    "def func(x):\n",
    "    if x==0:\n",
    "        return \" Hasn't spent \"\n",
    "    else:\n",
    "        return \" Has spent \"\n",
    "\n",
    "df4['PayingUsers.V2']=df4['PayingUsers'].map(func)\n",
    "count_users=df4[['userID','PayingUsers','PayingUsers.V2']]\n",
    "count_users\n",
    "\n",
    "# count_users['PayingUsers.V2'].value_counts()"
   ]
  },
  {
   "cell_type": "code",
   "execution_count": null,
   "metadata": {},
   "outputs": [],
   "source": [
    "# 2) Country: Country of the players. No limitations. Maybe country analysis?\n",
    "df4.columns\n",
    "\n",
    "df4[['Country']].drop_duplicates().drop(index=0).dropna(how='any').reset_index()"
   ]
  },
  {
   "cell_type": "code",
   "execution_count": null,
   "metadata": {},
   "outputs": [],
   "source": [
    "# 3) Platform: Platform of the player (console / Steam..)\n",
    "\n",
    "df4['Platform'].value_counts()\n",
    "df4.groupby(['Platform'])[['T3Wins','T3Draw','T3Losses']].agg(['min','max','mean','std'])"
   ]
  },
  {
   "cell_type": "code",
   "execution_count": null,
   "metadata": {},
   "outputs": [],
   "source": [
    "# 4) ClanJoined: If the player has joined a clan before doing a purchase\n",
    "df4.columns\n",
    "dfn=df4[['ClanJoined','StartingGoldPurchaseCrate','StartingGoldPurchaseSupply']]\n",
    "dfn=dfn[dfn['StartingGoldPurchaseCrate'].isna() & dfn['StartingGoldPurchaseSupply'].isna() ]\n",
    "dfn=dfn[dfn['ClanJoined']==1]\n",
    "dfn['ClanJoined'].value_counts()\n",
    "dfn"
   ]
  },
  {
   "cell_type": "code",
   "execution_count": null,
   "metadata": {},
   "outputs": [],
   "source": [
    "# 5) CardsDonated: Amount of cards given by the player to other members of his clan before \n",
    "# the 1st Purchase happened\n",
    "\n",
    "ndf=df4[['ClanJoined','CardsDonated','StartingGoldPurchaseCrate','StartingGoldPurchaseSupply']]\n",
    "ndf=ndf[ndf['StartingGoldPurchaseCrate'].isna() & ndf['StartingGoldPurchaseSupply'].isna() ]\n",
    "ndf=ndf[(ndf['ClanJoined']==1) & (ndf['CardsDonated']!=0)]\n",
    "ndf"
   ]
  }
 ],
 "metadata": {
  "kernelspec": {
   "display_name": "Python 3",
   "language": "python",
   "name": "python3"
  },
  "language_info": {
   "codemirror_mode": {
    "name": "ipython",
    "version": 3
   },
   "file_extension": ".py",
   "mimetype": "text/x-python",
   "name": "python",
   "nbconvert_exporter": "python",
   "pygments_lexer": "ipython3",
   "version": "3.12.0"
  }
 },
 "nbformat": 4,
 "nbformat_minor": 2
}
